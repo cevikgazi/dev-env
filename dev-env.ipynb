{
 "cells": [
 {
 "cell_type": "markdown",
 "metadata": {},
 "source": [
 "# dev-env v3.2 — Code Server + Nexus + Forgejo\n",
 "\n",
 "**TAM ÇALIŞIR | NixOS + Docker + Colab**\n",
 "\n",
 "**ÇÖZÜLENLER:**\n",
 "- `unknown` → `--build` sadece `code-server`\n",
 "- `docker not found` → `nix develop` içinde\n",
 "- `nexus` `exit 255` → izin + JVM fix\n",
 "- `unhealthy` → `start_period: 180s`\n",
 "\n",
 "**ÇIKTI:** `dev-env.zip` → İndir → `nix develop && ./setup.sh`\n",
 "\n",
 "---\n"
 ]
 },
 {
 "cell_type": "markdown",
 "metadata": {},
 "source": [
 "## 1. `docker-compose.yml` — `nexus` fixli"
 ]
 },
 {
 "cell_type": "code",
 "execution_count": null,
 "metadata": {},
 "outputs": [],
 "source": [
 "%%writefile docker-compose.yml\n",
 "services:\n",
 " nexus:\n",
 " image: sonatype/nexus3:3.68.1\n",
 " container_name: nexus\n",
 " restart: unless-stopped\n",
 " ports:\n",
 " - \"${NEXUS_PORT}:8081\"\n",
 " volumes:\n",
 " - ./nexus-data:/nexus-data\n",
 " environment:\n",
 " - NEXUS_CONTEXT=nexus\n",
 " - INSTALL4J_JAVA_HOME=/opt/java/openjdk\n",
 " - NEXUS_JVM_OPTS=-Xms2703m -Xmx2703m\n",
 " ulimits:\n",
 " nofile:\n",
 " soft: 65536\n",
 " hard: 65536\n",
 " healthcheck:\n",
 " test: [\"CMD\", \"curl\", \"-f\", \"http://localhost:8081\" || exit 1]\n",
 " interval: 30s\n",
 " timeout: 10s\n",
 " retries: 15\n",
 " start_period: 180s # 3 dakika bekle\n",
 " networks: [devnet]\n",
 "\n",
 " code-server:\n",
 " build:\n",
 " context: .\n",
 " dockerfile: Dockerfile\n",
 " user: \"${HOST_UID}:${HOST_GID}\"\n",
 " container_name: code-server\n",
 " environment:\n",
 " - PASSWORD=${CODE_SERVER_PASSWORD}\n",
 " ports:\n",
 " - \"${CODE_SERVER_PORT}:8080\"\n",
 " volumes:\n",
 " - ./projects:/home/coder/project\n",
 " - ./config:/home/coder/.config\n",
 " - ./rust:/home/coder/.cargo\n",
 " - ./rustup:/home/coder/.rustup\n",
 " - ./python:/home/coder/.local\n",
 " - ./pip-cache:/home/coder/.cache/pip\n",
 " - ./bash/.bashrc:/home/coder/.bashrc\n",
 " - ./bash/aliases.sh:/home/coder/.aliases\n",
 " - ./config/.ssh:/home/coder/.ssh:ro\n",
 " depends_on:\n",
 " nexus:\n",
 " condition: service_healthy\n",
 " healthcheck:\n",
 " test: [\"CMD\", \"curl\", \"-f\", \"http://localhost:8080\"]\n",
 " interval: 10s\n",
 " timeout: 5s\n",
 " retries: 3\n",
 " restart: unless-stopped\n",
 " networks: [devnet]\n",
 "\n",
 " forgejo:\n",
 " image: codeberg.org/forgejo/forgejo:8\n",
 " container_name: forgejo\n",
 " restart: unless-stopped\n",
 " environment:\n",
 " - USER_UID=${HOST_UID}\n",
 " - USER_GID=${HOST_GID}\n",
 " - FORGEJO__database__DB_TYPE=sqlite3\n",
 " - FORGEJO__server__HTTP_PORT=3000\n",
 " - FORGEJO__server__ROOT_URL=http://localhost:${FORGEJO_PORT}/\n",
 " - FORGEJO__security__INSTALL_LOCK=true\n",
 " - FORGEJO__security__ADMIN_USER=${FORGEJO_ADMIN_USER}\n",
 " - FORGEJO__security__ADMIN_PASSWORD=${FORGEJO_ADMIN_PASS}\n",
 " ports:\n",
 " - \"${FORGEJO_PORT}:3000\"\n",
 " volumes:\n",
 " - ./forgejo-data:/data\n ",
 " depends_on:\n",
 " - code-server\n",
 " networks: [devnet]\n",
 "\n",
 "networks:\n",
 " devnet:\n",
 " driver: bridge\n"
 ]
 },
 {
 "cell_type": "markdown",
 "metadata": {},
 "source": [
 "## 2. `Dockerfile`"
 ]
 },
 {
 "cell_type": "code",
 "execution_count": null,
 "metadata": {},
 "outputs": [],
 "source": [
 "%%writefile Dockerfile\n",
 "FROM codercom/code-server:latest\n",
 "\n",
 "USER root\n",
 "RUN apt-get update && \\\n",
 " apt-get install -y curl git wget build-essential && \\\n",
 " rm -rf /var/lib/apt/lists/*\n",
 "\n",
 "USER coder\n"
 ]
 },
 {
 "cell_type": "markdown",
 "metadata": {},
 "source": [
 "## 3. `.env.example`"
 ]
 },
 {
 "cell_type": "code",
 "execution_count": null,
 "metadata": {},
 "outputs": [],
 "source": [
 "%%writefile .env.example\n",
 "HOST_UID=1000\n",
 "HOST_GID=1000\n",
 "\n",
 "CODE_SERVER_PORT=8080\n",
 "CODE_SERVER_PASSWORD=devpass123\n",
 "\n",
 "NEXUS_PORT=8081\n",
 "\n",
 "FORGEJO_PORT=3000\n",
 "FORGEJO_ADMIN_USER=admin\n",
 "FORGEJO_ADMIN_PASS=forgejo123\n"
 ]
 },
 {
 "cell_type": "markdown",
 "metadata": {},
 "source": [
 "## 4. `setup.sh` — akıllı, hatasız"
 ]
 },
 {
 "cell_type": "code",
 "execution_count": null,
 "metadata": {},
 "outputs": [],
 "source": [
 "%%writefile setup.sh\n",
 "#!/usr/bin/env bash\n",
 "set -euo pipefail\n",
 "\n",
 "echo \"dev-env v3.2 — Code Server + Nexus + Forgejo\"\n",
 "echo \"==========================================\"\n",
 "\n",
 "# .env yoksa kopyala\n",
 "if [ ! -f .env ]; then\n",
 " echo \"Bilgi: .env eksik → .env.example'dan kopyalanıyor...\"\n",
 " cp .env.example .env\n",
 "fi\n",
 "\n",
 "set +u\n",
 "source .env\n",
 "set -u\n",
 "\n",
 "HOST_UID=${HOST_UID:-1000}\n",
 "HOST_GID=${HOST_GID:-1000}\n",
 "\n",
 "echo \"Bilgi: UID/GID → $HOST_UID:$HOST_GID\"\n",
 "\n",
 "# nexus-data izinleri (UID 200)\n",
 "echo \"nexus-data izinleri düzeltiliyor...\"\n",
 "mkdir -p nexus-data\n",
 "sudo chown -R 200:200 nexus-data || echo \"sudo gerekmiyor, devam...\"\n",
 "\n",
 "# Sadece code-server build\n",
 "echo \"code-server build ediliyor...\"\n",
 "docker compose build code-server\n",
 "\n",
 "# Başlat\n",
 "echo \"Servisler başlatılıyor (nexus 3-5 dk sürebilir)...\"\n",
 "docker compose up -d\n",
 "\n",
 "echo \"\"\n",
 "echo \"dev-env v3.2 HAZIR!\"\n",
 "echo \"------------------------------------------------\"\n",
 "echo \" Code Server → http://localhost:${CODE_SERVER_PORT:-8080}\"\n",
 "echo \" Nexus → http://localhost:${NEXUS_PORT:-8081} (3-5 dk bekle)\"\n",
 "echo \" Forgejo → http://localhost:${FORGEJO_PORT:-3000}\"\n",
 "echo \"------------------------------------------------\"\n",
 "echo \"Log izle: docker logs -f nexus\"\n",
 "echo \"Admin şifre: cat nexus-data/admin.password (ilk girişte)\"\n",
 "docker compose ps\n"
 ]
 },
 {
 "cell_type": "markdown",
 "metadata": {},
 "source": [
 "## 5. `flake.nix` — `docker` garanti"
 ]
 },
 {
 "cell_type": "code",
 "execution_count": null,
 "metadata": {},
 "outputs": [],
 "source": [
 "%%writefile flake.nix\n",
 "{\n",
 " inputs = {\n",
 " nixpkgs.url = \"github:NixOS/nixpkgs/nixos-unstable\";\n",
 " flake-utils.url = \"github:numtide/flake-utils\";\n",
 " };\n",
 "\n",
 " outputs = { self, nixpkgs, flake-utils }:\n",
 " flake-utils.lib.eachDefaultSystem (system:\n",
 " let\n",
 " pkgs = nixpkgs.legacyPackages.${system};\n",
 " in {\n",
 " devShells.default = pkgs.mkShell {\n",
 " buildInputs = with pkgs; [\n",
 " docker\n",
 " docker-compose\n",
 " git\n",
 " ];\n",
 " shellHook = ''\n",
 " echo \"dev-env v3.2 hazır!\"\n",
 " echo \"Çalıştır: ./setup.sh\"\n",
 " '';\n",
 " };\n",
 " });\n",
 " );\n",
 "}\n"
 ]
 },
 {
 "cell_type": "markdown",
 "metadata": {},
 "source": [
 "## 6. ZIP OLUŞTUR & İNDİR"
 ]
 },
 {
 "cell_type": "code",
 "execution_count": null,
 "metadata": {},
 "outputs": [],
 "source": [
 "%%bash\n",
 "zip -r dev-env.zip docker-compose.yml Dockerfile .env.example setup.sh flake.nix\n",
 "echo \"\"\n",
 "echo \"dev-env.zip HAZIR!\"\n",
 "echo \"Sağ tık → Download → NixOS'ta aç\"\n",
 "echo \"\"\n",
 "echo \"KULLANIM:\"\n",
 "echo \" unzip dev-env.zip -d dev-env\"\n",
 "echo \" cd dev-env\"\n",
 "echo \" nix develop\"\n",
 "echo \" ./setup.sh\"\n"
 ]
 }
 ],
 "metadata": {
 "kernelspec": {
 "display_name": "Python 3",
 "language": "python",
 "name": "python3"
 }
 },
 "nbformat": 4,
 "nbformat_minor": 2
}
