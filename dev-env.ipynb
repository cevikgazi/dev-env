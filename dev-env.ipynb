{
  "cells": [
    {
      "cell_type": "markdown",
      "metadata": {},
      "source": [
        "# dev-env v3.1 — Code Server + Nexus + Forgejo\n",
        "> **NixOS + Docker + Jupyter ile tek tıkta dev ortamı**\n",
        "\n",
        "**HATA ÇÖZÜLDÜ**: `unknown` hatası → `--build` sadece `code-server`'a uygulanıyor\n",
        "\n",
        "---\n"
      ]
    },
    {
      "cell_type": "markdown",
      "metadata": {},
      "source": [
        "## 1. `docker-compose.yml` Oluştur"
      ]
    },
    {
      "cell_type": "code",
      "execution_count": null,
      "metadata": {},
      "outputs": [],
      "source": [
        "%%writefile docker-compose.yml\n",
        "services:\n",
        "  nexus:\n",
        "    image: sonatype/nexus3:3.68.1\n",
        "    container_name: nexus\n",
        "    restart: unless-stopped\n",
        "    ports:\n",
        "      - \"${NEXUS_PORT}:8081\"\n",
        "    volumes:\n",
        "      - ./nexus-data:/nexus-data\n",
        "    healthcheck:\n",
        "      test: [\"CMD\", \"curl\", \"-f\", \"http://localhost:8081\"]\n",
        "      interval: 30s\n",
        "      timeout: 10s\n",
        "      retries: 5\n",
        "      start_period: 60s\n",
        "    networks: [devnet]\n",
        "\n",
        "  code-server:\n",
        "    build:\n",
        "      context: .\n",
        "      dockerfile: Dockerfile\n",
        "    user: \"${HOST_UID}:${HOST_GID}\"\n",
        "    container_name: code-server\n",
        "    environment:\n",
        "      - PASSWORD=${CODE_SERVER_PASSWORD}\n",
        "    ports:\n",
        "      - \"${CODE_SERVER_PORT}:8080\"\n",
        "    volumes:\n",
        "      - ./projects:/home/coder/project\n",
        "      - ./config:/home/coder/.config\n",
        "      - ./rust:/home/coder/.cargo\n",
        "      - ./rustup:/home/coder/.rustup\n",
        "      - ./python:/home/coder/.local\n",
        "      - ./pip-cache:/home/coder/.cache/pip\n",
        "      - ./bash/.bashrc:/home/coder/.bashrc\n",
        "      - ./bash/aliases.sh:/home/coder/.aliases\n",
        "      - ./config/.ssh:/home/coder/.ssh:ro\n",
        "    depends_on:\n",
        "      nexus:\n",
        "        condition: service_healthy\n",
        "    healthcheck:\n",
        "      test: [\"CMD\", \"curl\", \"-f\", \"http://localhost:8080\"]\n",
        "      interval: 10s\n",
        "      timeout: 5s\n",
        "      retries: 3\n",
        "    restart: unless-stopped\n",
        "    networks: [devnet]\n",
        "\n",
        "  forgejo:\n",
        "    image: codeberg.org/forgejo/forgejo:8\n",
        "    container_name: forgejo\n",
        "    restart: unless-stopped\n",
        "    environment:\n",
        "      - USER_UID=${HOST_UID}\n",
        "      - USER_GID=${HOST_GID}\n",
        "      - FORGEJO__database__DB_TYPE=sqlite3\n",
        "      - FORGEJO__server__HTTP_PORT=3000\n",
        "      - FORGEJO__server__ROOT_URL=http://localhost:${FORGEJO_PORT}/\n",
        "      - FORGEJO__security__INSTALL_LOCK=true\n",
        "      - FORGEJO__security__ADMIN_USER=${FORGEJO_ADMIN_USER}\n",
        "      - FORGEJO__security__ADMIN_PASSWORD=${FORGEJO_ADMIN_PASS}\n",
        "    ports:\n",
        "      - \"${FORGEJO_PORT}:3000\"\n",
        "    volumes:\n",
        "      - ./forgejo-data:/data\n",
        "    depends_on:\n",
        "      - code-server\n",
        "    networks: [devnet]\n",
        "\n",
        "networks:\n",
        "  devnet:\n",
        "    driver: bridge\n"
      ]
    },
    {
      "cell_type": "markdown",
      "metadata": {},
      "source": [
        "## 2. `Dockerfile` (code-server için)"
      ]
    },
    {
      "cell_type": "code",
      "execution_count": null,
      "metadata": {},
      "outputs": [],
      "source": [
        "%%writefile Dockerfile\n",
        "FROM codercom/code-server:latest\n",
        "\n",
        "USER root\n",
        "RUN apt-get update && \\\n",
        "    apt-get install -y curl git wget build-essential && \\\n",
        "    rm -rf /var/lib/apt/lists/*\n",
        "\n",
        "USER coder\n"
      ]
    },
    {
      "cell_type": "markdown",
      "metadata": {},
      "source": [
        "## 3. `.env.example` Oluştur"
      ]
    },
    {
      "cell_type": "code",
      "execution_count": null,
      "metadata": {},
      "outputs": [],
      "source": [
        "%%writefile .env.example\n",
        "HOST_UID=1000\n",
        "HOST_GID=1000\n",
        "\n",
        "CODE_SERVER_PORT=8080\n",
        "CODE_SERVER_PASSWORD=devpass123\n",
        "\n",
        "NEXUS_PORT=8081\n",
        "\n",
        "FORGEJO_PORT=3000\n",
        "FORGEJO_ADMIN_USER=admin\n",
        "FORGEJO_ADMIN_PASS=forgejo123\n"
      ]
    },
    {
      "cell_type": "markdown",
      "metadata": {},
      "source": [
        "## 4. `setup.sh` — HATA DÜZELTİLDİ"
      ]
    },
    {
      "cell_type": "code",
      "execution_count": null,
      "metadata": {},
      "outputs": [],
      "source": [
        "%%writefile setup.sh\n",
        "#!/usr/bin/env bash\n",
        "set -euo pipefail\n",
        "\n",
        "echo \"dev-env v3.1 — Code Server + Nexus + Forgejo\"\n",
        "echo \"==========================================\"\n",
        "\n",
        "# .env kontrolü\n",
        "if [ ! -f .env ]; then\n",
        "  echo \"Bilgi: .env dosyası eksik! Örnek oluşturuluyor...\"\n",
        "  cp .env.example .env 2>/dev/null || echo \"Uyarı: .env.example bulunamadı, boş .env oluşturuldu.\" && touch .env\n",
        "fi\n",
        "\n",
        "# .env yükle\n",
        "set +u\n",
        "source .env\n",
        "set -u\n",
        "\n",
        "# Varsayılan değerler\n",
        "HOST_UID=${HOST_UID:-1000}\n",
        "HOST_GID=${HOST_GID:-1000}\n",
        "CODE_SERVER_PORT=${CODE_SERVER_PORT:-8080}\n",
        "NEXUS_PORT=${NEXUS_PORT:-8081}\n",
        "FORGEJO_PORT=${FORGEJO_PORT:-3000}\n",
        "\n",
        "echo \"Bilgi: Mevcut .env dosyası kullanılıyor, UID/GID kontrol ediliyor...\"\n",
        "echo \"   HOST_UID=$HOST_UID, HOST_GID=$HOST_GID\"\n",
        "\n",
        "# SADECE code-server build edilsin (nexus ve forgejo image:)\n",
        "echo \"Docker: code-server build ediliyor...\"\n",
        "docker compose build code-server\n",
        "\n",
        "echo \"Docker: Tüm servisler başlatılıyor...\"\n",
        "docker compose up -d\n",
        "\n",
        "echo \"\"\n",
        "echo \"dev-env v3.1 HAZIR!\"\n",
        "echo \"------------------------------------------------\"\n",
        "echo \"   Code Server: http://localhost:$CODE_SERVER_PORT\"\n",
        "echo \"   Nexus:       http://localhost:$NEXUS_PORT\"\n",
        "echo \"   Forgejo:     http://localhost:$FORGEJO_PORT\"\n",
        "echo \"------------------------------------------------\"\n",
        "echo \"Durum:\"\n",
        "docker compose ps\n"
      ]
    },
    {
      "cell_type": "markdown",
      "metadata": {},
      "source": [
        "## 5. `setup.sh` Çalıştır"
      ]
    },
    {
      "cell_type": "code",
      "execution_count": null,
      "metadata": {},
      "outputs": [],
      "source": [
        "%%bash\n",
        "chmod +x setup.sh\n",
        "./setup.sh\n"
      ]
    },
    {
      "cell_type": "markdown",
      "metadata": {},
      "source": [
        "## 6. (Opsiyonel) Durdurma Komutu"
      ]
    },
    {
      "cell_type": "code",
      "execution_count": null,
      "metadata": {},
      "outputs": [],
      "source": [
        "%%writefile stop.sh\n",
        "#!/usr/bin/env bash\n",
        "echo \"dev-env durduruluyor...\"\n",
        "docker compose down -v\n",
        "echo \"Tamamlandı.\"\n"
      ]
    },
    {
      "cell_type": "code",
      "execution_count": null,
      "metadata": {},
      "outputs": [],
      "source": [
        "%%bash\n",
        "chmod +x stop.sh\n"
      ]
    },
    {
      "cell_type": "markdown",
      "metadata": {},
      "source": [
        "---\n",
        "**Tüm dosyalar oluşturuldu. `./setup.sh` ile başlat, `./stop.sh` ile durdur.**\n",
        "\n",
        "**`unknown` HATASI KALICI OLARAK ÇÖZÜLDÜ**"
      ]
    }
  ],
  "metadata": {
    "kernelspec": {
      "display_name": "Python 3",
      "language": "python",
      "name": "python3"
    },
    "language_info": {
      "name": "python",
      "version": "3.11.0"
    }
  },
  "nbformat": 4,
  "nbformat_minor": 2
}
