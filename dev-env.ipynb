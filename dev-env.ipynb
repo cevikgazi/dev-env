{
  "cells": [
    {
      "cell_type": "markdown",
      "metadata": {},
      "source": [
        "# dev-env v3.1 — Code Server + Nexus + Forgejo\n",
        "\n",
        "**NixOS + Docker + Jupyter ile tek tıkta geliştirme ortamı**\n",
        "\n",
        "**HATA ÇÖZÜLDÜ**: `unknown` → `--build` sadece `code-server`'a\n",
        "\n",
        "**ÇALIŞTIRMA**: `nix develop && ./setup.sh`\n",
        "\n",
        "---\n"
      ]
    },
    {
      "cell_type": "markdown",
      "metadata": {},
      "source": [
        "## 1. `docker-compose.yml` Oluştur"
      ]
    },
    {
      "cell_type": "code",
      "execution_count": null,
      "metadata": {},
      "outputs": [],
      "source": [
        "%%writefile docker-compose.yml\n",
        "services:\n",
        "  nexus:\n",
        "    image: sonatype/nexus3:3.68.1\n",
        "    container_name: nexus\n",
        "    restart: unless-stopped\n",
        "    ports:\n",
        "      - \"${NEXUS_PORT}:8081\"\n",
        "    volumes:\n",
        "      - ./nexus-data:/nexus-data\n",
        "    healthcheck:\n",
        "      test: [\"CMD\", \"curl\", \"-f\", \"http://localhost:8081\"]\n",
        "      interval: 30s\n",
        "      timeout: 10s\n",
        "      retries: 5\n",
        "      start_period: 60s\n",
        "    networks: [devnet]\n",
        "\n",
        "  code-server:\n",
        "    build:\n",
        "      context: .\n",
        "      dockerfile: Dockerfile\n",
        "    user: \"${HOST_UID}:${HOST_GID}\"\n",
        "    container_name: code-server\n",
        "    environment:\n",
        "      - PASSWORD=${CODE_SERVER_PASSWORD}\n",
        "    ports:\n",
        "      - \"${CODE_SERVER_PORT}:8080\"\n",
        "    volumes:\n",
        "      - ./projects:/home/coder/project\n",
        "      - ./config:/home/coder/.config\n",
        "      - ./rust:/home/coder/.cargo\n",
        "      - ./rustup:/home/coder/.rustup\n",
        "      - ./python:/home/coder/.local\n",
        "      - ./pip-cache:/home/coder/.cache/pip\n",
        "      - ./bash/.bashrc:/home/coder/.bashrc\n",
        "      - ./bash/aliases.sh:/home/coder/.aliases\n",
        "      - ./config/.ssh:/home/coder/.ssh:ro\n",
        "    depends_on:\n",
        "      nexus:\n",
        "        condition: service_healthy\n",
        "    healthcheck:\n",
        "      test: [\"CMD\", \"curl\", \"-f\", \"http://localhost:8080\"]\n",
        "      interval: 10s\n",
        "      timeout: 5s\n",
        "      retries: 3\n",
        "    restart: unless-stopped\n",
        "    networks: [devnet]\n",
        "\n",
        "  forgejo:\n",
        "    image: codeberg.org/forgejo/forgejo:8\n",
        "    container_name: forgejo\n",
        "    restart: unless-stopped\n",
        "    environment:\n",
        "      - USER_UID=${HOST_UID}\n",
        "      - USER_GID=${HOST_GID}\n",
        "      - FORGEJO__database__DB_TYPE=sqlite3\n",
        "      - FORGEJO__server__HTTP_PORT=3000\n",
        "      - FORGEJO__server__ROOT_URL=http://localhost:${FORGEJO_PORT}/\n",
        "      - FORGEJO__security__INSTALL_LOCK=true\n",
        "      - FORGEJO__security__ADMIN_USER=${FORGEJO_ADMIN_USER}\n",
        "      - FORGEJO__security__ADMIN_PASSWORD=${FORGEJO_ADMIN_PASS}\n",
        "    ports:\n",
        "      - \"${FORGEJO_PORT}:3000\"\n",
        "    volumes:\n",
        "      - ./forgejo-data:/data\n",
        "    depends_on:\n",
        "      - code-server\n",
        "    networks: [devnet]\n",
        "\n",
        "networks:\n",
        "  devnet:\n",
        "    driver: bridge\n"
      ]
    },
    {
      "cell_type": "markdown",
      "metadata": {},
      "source": [
        "## 2. `Dockerfile` (code-server için)"
      ]
    },
    {
      "cell_type": "code",
      "execution_count": null,
      "metadata": {},
      "outputs": [],
      "source": [
        "%%writefile Dockerfile\n",
        "FROM codercom/code-server:latest\n",
        "\n",
        "USER root\n",
        "RUN apt-get update && \\\n",
        "    apt-get install -y curl git wget build-essential && \\\n",
        "    rm -rf /var/lib/apt/lists/*\n",
        "\n",
        "USER coder\n"
      ]
    },
    {
      "cell_type": "markdown",
      "metadata": {},
      "source": [
        "## 3. `.env.example` Oluştur"
      ]
    },
    {
      "cell_type": "code",
      "execution_count": null,
      "metadata": {},
      "outputs": [],
      "source": [
        "%%writefile .env.example\n",
        "HOST_UID=1000\n",
        "HOST_GID=1000\n",
        "\n",
        "CODE_SERVER_PORT=8080\n",
        "CODE_SERVER_PASSWORD=devpass123\n",
        "\n",
        "NEXUS_PORT=8081\n",
        "\n",
        "FORGEJO_PORT=3000\n",
        "FORGEJO_ADMIN_USER=admin\n",
        "FORGEJO_ADMIN_PASS=forgejo123\n"
      ]
    },
    {
      "cell_type": "markdown",
      "metadata": {},
      "source": [
        "## 4. `setup.sh` — `unknown` HATASIZ"
      ]
    },
    {
      "cell_type": "code",
      "execution_count": null,
      "metadata": {},
      "outputs": [],
      "source": [
        "%%writefile setup.sh\n",
        "#!/usr/bin/env bash\n",
        "set -euo pipefail\n",
        "\n",
        "echo \"dev-env v3.1 — Code Server + Nexus + Forgejo\"\n",
        "echo \"==========================================\"\n",
        "\n",
        "if [ ! -f .env ]; then\n",
        "  echo \"Bilgi: .env eksik → .env.example'dan kopyalanıyor...\"\n",
        "  cp .env.example .env\n",
        "fi\n",
        "\n",
        "set +u\n",
        "source .env\n",
        "set -u\n",
        "\n",
        "HOST_UID=${HOST_UID:-1000}\n",
        "HOST_GID=${HOST_GID:-1000}\n",
        "\n",
        "echo \"Bilgi: UID/GID → $HOST_UID:$HOST_GID\"\n",
        "\n",
        "echo \"Docker: code-server build ediliyor...\"\n",
        "docker compose build code-server\n",
        "\n",
        "echo \"Docker: Tüm servisler başlatılıyor...\"\n",
        "docker compose up -d\n",
        "\n",
        "echo \"\"\n",
        "echo \"dev-env v3.1 HAZIR!\"\n",
        "echo \"------------------------------------------------\"\n",
        "echo \"   Code Server → http://localhost:${CODE_SERVER_PORT:-8080}\"\n",
        "echo \"   Nexus       → http://localhost:${NEXUS_PORT:-8081}\"\n",
        "echo \"   Forgejo     → http://localhost:${FORGEJO_PORT:-3000}\"\n",
        "echo \"------------------------------------------------\"\n",
        "docker compose ps\n"
      ]
    },
    {
      "cell_type": "markdown",
      "metadata": {},
      "source": [
        "## 5. `setup.sh` Dışarı Çıkar (Jupyter'da `docker` yoksa hata verir)"
      ]
    },
    {
      "cell_type": "code",
      "execution_count": null,
      "metadata": {},
      "outputs": [],
      "source": [
        "%%bash\n",
        "cp setup.sh ../setup-dev.sh\n",
        "chmod +x ../setup-dev.sh\n",
        "echo \"setup-dev.sh dışarıya kopyalandı. Terminalde çalıştır:\"\n",
        "echo \"   cd .. && nix develop && ./setup-dev.sh\"\n"
      ]
    },
    {
      "cell_type": "markdown",
      "metadata": {},
      "source": [
        "---\n",
        "## KULLANIM (Terminalde)\n",
        "\n",
        "```bash\n",
        "cd dev-env\n",
        "nix develop\n",
        "./setup-dev.sh\n",
        "```\n",
        "\n",
        "**`docker: command not found` alırsan → `nix develop` içinde ol!**\n",
        "\n",
        "---\n",
        "**`unknown` HATASI YOK → `--build` sadece `code-server`'a**\n",
        "\n",
        "**GitHub'a yükle, herkes kullansın.**\n"
      ]
    }
  ],
  "metadata": {
    "kernelspec": {
      "display_name": "Python 3",
      "language": "python",
      "name": "python3"
    },
    "language_info": {
      "name": "python",
      "version": "3.11.0"
    }
  },
  "nbformat": 4,
  "nbformat_minor": 2
}
